{
 "cells": [
  {
   "cell_type": "code",
   "execution_count": 2,
   "id": "447320f5-ca7e-44f5-b10e-95edce1a0cf8",
   "metadata": {},
   "outputs": [],
   "source": [
    "import requests\n",
    "from bs4 import BeautifulSoup\n",
    "import sys\n",
    "import pprint"
   ]
  },
  {
   "cell_type": "code",
   "execution_count": 29,
   "id": "6f1f083f-9560-4744-98b4-9cf16fa939de",
   "metadata": {},
   "outputs": [
    {
     "name": "stdout",
     "output_type": "stream",
     "text": [
      "https://finance.yahoo.com/quote/AAPL?p=AAPL\n"
     ]
    }
   ],
   "source": [
    "url = 'https://finance.yahoo.com/quote/'\n",
    "q_param = ''\n",
    "if len(sys.argv) == 2:\n",
    "    q_param = sys.argv[1]\n",
    "else:\n",
    "    q_param = 'AAPL'\n",
    "str = '?p='\n",
    "complete_url = url + q_param + str + q_param\n",
    "print(complete_url)"
   ]
  },
  {
   "cell_type": "code",
   "execution_count": 30,
   "id": "64240643-ac1f-4e39-a368-17016788804a",
   "metadata": {},
   "outputs": [],
   "source": [
    "resp = requests.get(complete_url)"
   ]
  },
  {
   "cell_type": "code",
   "execution_count": 31,
   "id": "fbfc1628-acde-43d5-8028-d7bed735e497",
   "metadata": {},
   "outputs": [],
   "source": [
    "if resp.status_code != 200:\n",
    "    print('yahoo finance server sent bad response. http status code {}'.format(resp.status_code))"
   ]
  },
  {
   "cell_type": "code",
   "execution_count": 32,
   "id": "e3be6163-3bb1-4170-8738-e26a1f882fca",
   "metadata": {},
   "outputs": [],
   "source": [
    "soup = BeautifulSoup(resp.text, features='html.parser')"
   ]
  },
  {
   "cell_type": "code",
   "execution_count": 67,
   "id": "1a66b51d-0634-4087-a84c-4b80743f0b3c",
   "metadata": {},
   "outputs": [],
   "source": [
    "contents_div = soup.find('div', {'id' : 'quote-summary'})\n",
    "#tables = contents_div.find_all('tables')\n",
    "trs = contents_div.find_all('tr')"
   ]
  },
  {
   "cell_type": "code",
   "execution_count": 80,
   "id": "1d2ab0e6-f860-4534-8759-334759b65d04",
   "metadata": {},
   "outputs": [],
   "source": [
    "def get_stock_values(table_rows):\n",
    "    stock_values = {}\n",
    "    for idx, row in enumerate(table_rows):\n",
    "        tds = row.find_all('td')\n",
    "        stock_values[tds[0].text] = tds[1].text\n",
    "        #print(idx, tds[0].text, tds[1].text)\n",
    "    #print('--------------------------------------------------------------------------------')\n",
    "    return stock_values"
   ]
  },
  {
   "cell_type": "code",
   "execution_count": 81,
   "id": "bc79b107-2249-460d-89e6-35f8abc8da4c",
   "metadata": {},
   "outputs": [
    {
     "name": "stdout",
     "output_type": "stream",
     "text": [
      "{     '1y Target Est': '167.27',\n",
      "      '52 Week Range': '103.10 - 157.26',\n",
      "      'Ask': '145.80 x 1100',\n",
      "      'Avg. Volume': '78,724,809',\n",
      "      'Beta (5Y Monthly)': '1.20',\n",
      "      'Bid': '145.75 x 800',\n",
      "      \"Day's Range\": '145.76 - 148.79',\n",
      "      'EPS (TTM)': '5.11',\n",
      "      'Earnings Date': 'Oct 27, 2021 - Nov 01, 2021',\n",
      "      'Ex-Dividend Date': 'Aug 06, 2021',\n",
      "      'Forward Dividend & Yield': '0.88 (0.59%)',\n",
      "      'Market Cap': '2.414T',\n",
      "      'Open': '148.82',\n",
      "      'PE Ratio (TTM)': '28.59',\n",
      "      'Previous Close': '148.79',\n",
      "      'Volume': '129,868,824'}\n"
     ]
    }
   ],
   "source": [
    "stock_vals = get_stock_values(trs)\n",
    "pp = pprint.PrettyPrinter(indent=6, depth=6)\n",
    "pp.pprint(stock_vals)"
   ]
  },
  {
   "cell_type": "code",
   "execution_count": null,
   "id": "40c5900c-5ea4-4f68-87f7-2871a499706f",
   "metadata": {},
   "outputs": [],
   "source": []
  }
 ],
 "metadata": {
  "kernelspec": {
   "display_name": "Python 3 (ipykernel)",
   "language": "python",
   "name": "python3"
  },
  "language_info": {
   "codemirror_mode": {
    "name": "ipython",
    "version": 3
   },
   "file_extension": ".py",
   "mimetype": "text/x-python",
   "name": "python",
   "nbconvert_exporter": "python",
   "pygments_lexer": "ipython3",
   "version": "3.9.5"
  }
 },
 "nbformat": 4,
 "nbformat_minor": 5
}
