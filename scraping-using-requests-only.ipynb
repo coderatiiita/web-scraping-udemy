{
 "cells": [
  {
   "cell_type": "code",
   "execution_count": 7,
   "id": "939169e9-1bed-4db1-90a7-bb82ca0422ed",
   "metadata": {},
   "outputs": [],
   "source": [
    "import requests"
   ]
  },
  {
   "cell_type": "code",
   "execution_count": 8,
   "id": "d98670f9-3354-4d28-9d4f-26dff596ea8f",
   "metadata": {},
   "outputs": [],
   "source": [
    "url = 'https://finance.yahoo.com/quote/AAPL?p=AAPL'"
   ]
  },
  {
   "cell_type": "code",
   "execution_count": 12,
   "id": "5a9fcef2-363d-4efd-b0be-e9cb848c3788",
   "metadata": {},
   "outputs": [
    {
     "name": "stdout",
     "output_type": "stream",
     "text": [
      "<Response [200]>\n",
      "True\n"
     ]
    }
   ],
   "source": [
    "response = requests.get(url)\n",
    "print(response)\n",
    "print(response.status_code == 200)"
   ]
  },
  {
   "cell_type": "code",
   "execution_count": 13,
   "id": "41f56df2-771f-4619-8ed8-89bce6c03893",
   "metadata": {},
   "outputs": [],
   "source": [
    "t = response.text"
   ]
  },
  {
   "cell_type": "code",
   "execution_count": 14,
   "id": "1c05bc03-cb3d-4f6d-a940-c05be184a6e0",
   "metadata": {},
   "outputs": [],
   "source": [
    "prop = 'Previous Close'"
   ]
  },
  {
   "cell_type": "code",
   "execution_count": 15,
   "id": "ceb60e4e-e025-4fc7-95e5-a193611480f5",
   "metadata": {},
   "outputs": [
    {
     "name": "stdout",
     "output_type": "stream",
     "text": [
      "148.79\n"
     ]
    }
   ],
   "source": [
    "ind = t.index(prop)\n",
    "val = t[ind:].split('</span>')[1].split('>')[-1]\n",
    "print(val)"
   ]
  },
  {
   "cell_type": "code",
   "execution_count": null,
   "id": "4092f71c-06e8-4b2b-9903-3ed76e132cf1",
   "metadata": {},
   "outputs": [],
   "source": []
  }
 ],
 "metadata": {
  "kernelspec": {
   "display_name": "Python 3 (ipykernel)",
   "language": "python",
   "name": "python3"
  },
  "language_info": {
   "codemirror_mode": {
    "name": "ipython",
    "version": 3
   },
   "file_extension": ".py",
   "mimetype": "text/x-python",
   "name": "python",
   "nbconvert_exporter": "python",
   "pygments_lexer": "ipython3",
   "version": "3.9.5"
  }
 },
 "nbformat": 4,
 "nbformat_minor": 5
}
