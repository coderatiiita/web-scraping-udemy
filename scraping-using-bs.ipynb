{
 "cells": [
  {
   "cell_type": "code",
   "execution_count": 1,
   "id": "d4ec9c02-88de-4161-96fa-870b41acb37a",
   "metadata": {},
   "outputs": [],
   "source": [
    "import requests\n",
    "from bs4 import BeautifulSoup"
   ]
  },
  {
   "cell_type": "code",
   "execution_count": 2,
   "id": "98a3887e-d4ac-4263-bdcb-701618cd0e21",
   "metadata": {},
   "outputs": [],
   "source": [
    "url = 'https://finance.yahoo.com/quote/AAPL?p=AAPL'"
   ]
  },
  {
   "cell_type": "code",
   "execution_count": 3,
   "id": "07bbd1a9-7005-475f-afa8-56588a8086ec",
   "metadata": {},
   "outputs": [],
   "source": [
    "resp = requests.get(url)"
   ]
  },
  {
   "cell_type": "code",
   "execution_count": 4,
   "id": "c1fab4bf-b797-4ab5-b948-3e74a369dda4",
   "metadata": {},
   "outputs": [],
   "source": [
    "soup = BeautifulSoup(resp.text, features='html.parser')"
   ]
  },
  {
   "cell_type": "code",
   "execution_count": 5,
   "id": "a13f99ac-43cf-4c25-a5b9-3f9d285d2e28",
   "metadata": {},
   "outputs": [],
   "source": [
    "trs = soup.find_all('tr')"
   ]
  },
  {
   "cell_type": "code",
   "execution_count": 11,
   "id": "a1d02e70-37ac-49e9-b8a4-a77e8659fdc7",
   "metadata": {},
   "outputs": [
    {
     "name": "stdout",
     "output_type": "stream",
     "text": [
      "Previous Close\n",
      "148.79\n"
     ]
    }
   ],
   "source": [
    "print(trs[0].contents[0].text)\n",
    "print(trs[0].contents[1].text)"
   ]
  },
  {
   "cell_type": "code",
   "execution_count": 14,
   "id": "f74f4564-28f7-430c-bf6f-3bcf40f19668",
   "metadata": {},
   "outputs": [
    {
     "name": "stdout",
     "output_type": "stream",
     "text": [
      "[<span data-reactid=\"95\">Previous Close</span>, <span class=\"Trsdu(0.3s)\" data-reactid=\"97\">148.79</span>]\n",
      "Previous Close 148.79\n"
     ]
    }
   ],
   "source": [
    "spans = trs[0].find_all('span')\n",
    "print(spans)\n",
    "(prop, val) = (spans[0].text, spans[1].text)\n",
    "print(prop, val)"
   ]
  },
  {
   "cell_type": "code",
   "execution_count": null,
   "id": "ddd68738-8242-4bbe-ae7a-eda010512f14",
   "metadata": {},
   "outputs": [],
   "source": []
  }
 ],
 "metadata": {
  "kernelspec": {
   "display_name": "Python 3 (ipykernel)",
   "language": "python",
   "name": "python3"
  },
  "language_info": {
   "codemirror_mode": {
    "name": "ipython",
    "version": 3
   },
   "file_extension": ".py",
   "mimetype": "text/x-python",
   "name": "python",
   "nbconvert_exporter": "python",
   "pygments_lexer": "ipython3",
   "version": "3.9.5"
  }
 },
 "nbformat": 4,
 "nbformat_minor": 5
}
